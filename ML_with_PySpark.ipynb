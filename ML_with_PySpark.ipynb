{
  "nbformat": 4,
  "nbformat_minor": 0,
  "metadata": {
    "kernelspec": {
      "display_name": "Python 3",
      "language": "python",
      "name": "python3"
    },
    "language_info": {
      "codemirror_mode": {
        "name": "ipython",
        "version": 3
      },
      "file_extension": ".py",
      "mimetype": "text/x-python",
      "name": "python",
      "nbconvert_exporter": "python",
      "pygments_lexer": "ipython3",
      "version": "3.7.0"
    },
    "colab": {
      "name": "ML with PySpark",
      "provenance": [],
      "collapsed_sections": [],
      "include_colab_link": true
    }
  },
  "cells": [
    {
      "cell_type": "markdown",
      "metadata": {
        "id": "view-in-github",
        "colab_type": "text"
      },
      "source": [
        "<a href=\"https://colab.research.google.com/github/jwlunak/ds-spark-sparkcontext-online-ds-sp-000/blob/master/ML_with_PySpark.ipynb\" target=\"_parent\"><img src=\"https://colab.research.google.com/assets/colab-badge.svg\" alt=\"Open In Colab\"/></a>"
      ]
    },
    {
      "cell_type": "markdown",
      "metadata": {
        "id": "ATQyAOjsWL5G",
        "colab_type": "text"
      },
      "source": [
        "## Machine Learning with Spark - Lab\n",
        "\n",
        "## Introduction\n",
        "\n",
        "In the previous lesson, you saw how to manipulate data with Spark DataFrames as well as create machine learning models. In this lab, you're going to practice loading data, manipulating it, and fitting it in the Spark framework. Afterward, you're going to make use of different visualizations to see if you can get any insights from the model. This dataset is from a Taiwanese financial company, and the task is to determine which individuals are going to default on their credit card based off of characteristics such as limit balance, past payment history, age, marriage status, and sex. Let's get started!\n",
        "\n",
        "### Objectives\n",
        "\n",
        "In this lab you will: \n",
        "\n",
        "- Load and manipulate data using Spark DataFrames \n",
        "- Create a Spark ML pipeline that transforms data and runs over a grid of hyperparameters "
      ]
    },
    {
      "cell_type": "markdown",
      "metadata": {
        "id": "yRktSTwFWL5J",
        "colab_type": "text"
      },
      "source": [
        "To begin with create a SparkSession and import the `'credit_card_default.csv'` file  into a PySpark DataFrame. "
      ]
    },
    {
      "cell_type": "code",
      "metadata": {
        "id": "E4uIPXe2WYEK",
        "colab_type": "code",
        "colab": {
          "base_uri": "https://localhost:8080/",
          "height": 238
        },
        "outputId": "d68b5283-5fd6-4a80-cb62-a373542e0724"
      },
      "source": [
        "!pip install pyspark"
      ],
      "execution_count": 2,
      "outputs": [
        {
          "output_type": "stream",
          "text": [
            "Collecting pyspark\n",
            "\u001b[?25l  Downloading https://files.pythonhosted.org/packages/9a/5a/271c416c1c2185b6cb0151b29a91fff6fcaed80173c8584ff6d20e46b465/pyspark-2.4.5.tar.gz (217.8MB)\n",
            "\u001b[K     |████████████████████████████████| 217.8MB 59kB/s \n",
            "\u001b[?25hCollecting py4j==0.10.7\n",
            "\u001b[?25l  Downloading https://files.pythonhosted.org/packages/e3/53/c737818eb9a7dc32a7cd4f1396e787bd94200c3997c72c1dbe028587bd76/py4j-0.10.7-py2.py3-none-any.whl (197kB)\n",
            "\u001b[K     |████████████████████████████████| 204kB 33.2MB/s \n",
            "\u001b[?25hBuilding wheels for collected packages: pyspark\n",
            "  Building wheel for pyspark (setup.py) ... \u001b[?25l\u001b[?25hdone\n",
            "  Created wheel for pyspark: filename=pyspark-2.4.5-py2.py3-none-any.whl size=218257927 sha256=05207713d667a69beabb9d5fc8f4239793aa67c8505ac02c5f28e7ab8c4a5906\n",
            "  Stored in directory: /root/.cache/pip/wheels/bf/db/04/61d66a5939364e756eb1c1be4ec5bdce6e04047fc7929a3c3c\n",
            "Successfully built pyspark\n",
            "Installing collected packages: py4j, pyspark\n",
            "Successfully installed py4j-0.10.7 pyspark-2.4.5\n"
          ],
          "name": "stdout"
        }
      ]
    },
    {
      "cell_type": "code",
      "metadata": {
        "id": "FksLJI49Wn8m",
        "colab_type": "code",
        "colab": {}
      },
      "source": [
        "!apt-get install openjdk-8-jdk-headless -qq > /dev/null\n",
        "!wget -q https://downloads.apache.org/spark/spark-2.4.5/spark-2.4.5-bin-hadoop2.7.tgz\n",
        "!tar xf spark-2.4.5-bin-hadoop2.7.tgz\n",
        "!pip install -q findspark"
      ],
      "execution_count": 0,
      "outputs": []
    },
    {
      "cell_type": "code",
      "metadata": {
        "id": "bHhquD_OWvVC",
        "colab_type": "code",
        "colab": {}
      },
      "source": [
        "import os\n",
        "os.environ[\"JAVA_HOME\"] = \"/usr/lib/jvm/java-8-openjdk-amd64\"\n",
        "os.environ[\"SPARK_HOME\"] = \"/content/spark-2.4.5-bin-hadoop2.7\""
      ],
      "execution_count": 0,
      "outputs": []
    },
    {
      "cell_type": "code",
      "metadata": {
        "id": "0nVzeKFXWL5M",
        "colab_type": "code",
        "colab": {}
      },
      "source": [
        "# import necessary libraries\n",
        "from pyspark import SparkContext\n",
        "from pyspark.sql import SparkSession\n",
        "# initialize Spark Session\n",
        "\n",
        "#sc = SparkContext('local[*]')\n",
        "spark = SparkSession(sc)\n",
        "\n",
        "# read in csv to a spark dataframe\n",
        "spark_df = spark.read.csv('./credit_card_default.csv',header='true',inferSchema='true')"
      ],
      "execution_count": 0,
      "outputs": []
    },
    {
      "cell_type": "markdown",
      "metadata": {
        "id": "8Rj5EEFzWL5b",
        "colab_type": "text"
      },
      "source": [
        "Check the datatypes to ensure that all columns are the datatype you expect."
      ]
    },
    {
      "cell_type": "code",
      "metadata": {
        "id": "C3mw3V1dWL5d",
        "colab_type": "code",
        "colab": {
          "base_uri": "https://localhost:8080/",
          "height": 442
        },
        "outputId": "b7963875-1672-41bf-b36a-9bfa6fda88c3"
      },
      "source": [
        "spark_df.dtypes"
      ],
      "execution_count": 8,
      "outputs": [
        {
          "output_type": "execute_result",
          "data": {
            "text/plain": [
              "[('ID', 'int'),\n",
              " ('LIMIT_BAL', 'double'),\n",
              " ('SEX', 'string'),\n",
              " ('EDUCATION', 'string'),\n",
              " ('MARRIAGE', 'string'),\n",
              " ('AGE', 'int'),\n",
              " ('PAY_0', 'int'),\n",
              " ('PAY_2', 'int'),\n",
              " ('PAY_3', 'int'),\n",
              " ('PAY_4', 'int'),\n",
              " ('PAY_5', 'int'),\n",
              " ('PAY_6', 'int'),\n",
              " ('BILL_AMT1', 'double'),\n",
              " ('BILL_AMT2', 'double'),\n",
              " ('BILL_AMT3', 'double'),\n",
              " ('BILL_AMT4', 'double'),\n",
              " ('BILL_AMT5', 'double'),\n",
              " ('BILL_AMT6', 'double'),\n",
              " ('PAY_AMT1', 'double'),\n",
              " ('PAY_AMT2', 'double'),\n",
              " ('PAY_AMT3', 'double'),\n",
              " ('PAY_AMT4', 'double'),\n",
              " ('PAY_AMT5', 'double'),\n",
              " ('PAY_AMT6', 'double'),\n",
              " ('default', 'int')]"
            ]
          },
          "metadata": {
            "tags": []
          },
          "execution_count": 8
        }
      ]
    },
    {
      "cell_type": "markdown",
      "metadata": {
        "id": "qXJrbAKGWL5n",
        "colab_type": "text"
      },
      "source": [
        "Check to see how many missing values are in the dataset. This will require using the `.filter()` , `.isNull()`, and `.count()` methods."
      ]
    },
    {
      "cell_type": "code",
      "metadata": {
        "id": "zn9dGCuvWL5p",
        "colab_type": "code",
        "colab": {
          "base_uri": "https://localhost:8080/",
          "height": 442
        },
        "outputId": "493c9366-6249-4285-a727-5d65c3492282"
      },
      "source": [
        "for col in spark_df.columns:\n",
        "    # your code here\n",
        "    print('column', col, spark_df.filter(spark_df[col].isNull()).count())"
      ],
      "execution_count": 9,
      "outputs": [
        {
          "output_type": "stream",
          "text": [
            "column ID 0\n",
            "column LIMIT_BAL 0\n",
            "column SEX 0\n",
            "column EDUCATION 0\n",
            "column MARRIAGE 0\n",
            "column AGE 0\n",
            "column PAY_0 0\n",
            "column PAY_2 0\n",
            "column PAY_3 0\n",
            "column PAY_4 0\n",
            "column PAY_5 0\n",
            "column PAY_6 0\n",
            "column BILL_AMT1 0\n",
            "column BILL_AMT2 0\n",
            "column BILL_AMT3 0\n",
            "column BILL_AMT4 0\n",
            "column BILL_AMT5 0\n",
            "column BILL_AMT6 0\n",
            "column PAY_AMT1 0\n",
            "column PAY_AMT2 0\n",
            "column PAY_AMT3 0\n",
            "column PAY_AMT4 0\n",
            "column PAY_AMT5 0\n",
            "column PAY_AMT6 0\n",
            "column default 0\n"
          ],
          "name": "stdout"
        }
      ]
    },
    {
      "cell_type": "markdown",
      "metadata": {
        "id": "ofymb6wQWL5z",
        "colab_type": "text"
      },
      "source": [
        "Now, determine how many categories there are in each of the categorical columns."
      ]
    },
    {
      "cell_type": "code",
      "metadata": {
        "id": "LZIKyqyaWL51",
        "colab_type": "code",
        "colab": {
          "base_uri": "https://localhost:8080/",
          "height": 88
        },
        "outputId": "5faa7914-fcbd-498f-c5a4-1d58a661da1d"
      },
      "source": [
        "for column, data_type in spark_df.dtypes:\n",
        "   # your code here\n",
        "       if data_type == 'string':\n",
        "        print('Feature ',column,' has: ', spark_df.select(column).distinct().collect())"
      ],
      "execution_count": 10,
      "outputs": [
        {
          "output_type": "stream",
          "text": [
            "Feature  SEX  has:  [Row(SEX='Female'), Row(SEX='Male')]\n",
            "Feature  EDUCATION  has:  [Row(EDUCATION='High School'), Row(EDUCATION='0'), Row(EDUCATION='5'), Row(EDUCATION='6'), Row(EDUCATION='Other'), Row(EDUCATION='Graduate'), Row(EDUCATION='College')]\n",
            "Feature  MARRIAGE  has:  [Row(MARRIAGE='0'), Row(MARRIAGE='Other'), Row(MARRIAGE='Married'), Row(MARRIAGE='Single')]\n"
          ],
          "name": "stdout"
        }
      ]
    },
    {
      "cell_type": "markdown",
      "metadata": {
        "id": "O6raOWphWL6A",
        "colab_type": "text"
      },
      "source": [
        "Interesting... it looks like we have some extraneous values in each of our categories. Let's look at some visualizations of each of these to determine just how many of them there are. Create bar plots of the variables `'EDUCATION'` and `'MARRIAGE'` to see how many of the undefined values there are. After doing so, come up with a strategy for accounting for the extra values."
      ]
    },
    {
      "cell_type": "code",
      "metadata": {
        "id": "kwmfPNDiWL6B",
        "colab_type": "code",
        "colab": {
          "base_uri": "https://localhost:8080/",
          "height": 265
        },
        "outputId": "2af698bb-3887-452d-eee0-39ae0ad4a240"
      },
      "source": [
        "import seaborn as sns\n",
        "import matplotlib.pyplot as plt\n",
        "\n",
        "def bar_plot_values(idx,group):\n",
        "    return [x[idx] for x in group]\n",
        "\n",
        "## plotting the categories for education\n",
        "education_cats = spark_df.groupBy('EDUCATION').count().collect()\n",
        "sns.barplot(x=bar_plot_values(0,education_cats),y=bar_plot_values(1,education_cats))\n",
        "plt.show()"
      ],
      "execution_count": 12,
      "outputs": [
        {
          "output_type": "display_data",
          "data": {
            "image/png": "[encoded data removed]",
            "text/plain": [
              "<Figure size 432x288 with 1 Axes>"
            ]
          },
          "metadata": {
            "tags": []
          }
        }
      ]
    },
    {
      "cell_type": "code",
      "metadata": {
        "id": "Dvsa3J5LWL6L",
        "colab_type": "code",
        "colab": {
          "base_uri": "https://localhost:8080/",
          "height": 265
        },
        "outputId": "b89ad57c-934d-405c-9b09-b0edf8174cc0"
      },
      "source": [
        "## plotting the categories for marriage\n",
        "marriage_cats = spark_df.groupBy('MARRIAGE').count().collect()\n",
        "sns.barplot(x=bar_plot_values(0,marriage_cats),y=bar_plot_values(1,marriage_cats))\n",
        "plt.show()"
      ],
      "execution_count": 14,
      "outputs": [
        {
          "output_type": "display_data",
          "data": {
            "image/png": "[encoded data removed]",
            "text/plain": [
              "<Figure size 432x288 with 1 Axes>"
            ]
          },
          "metadata": {
            "tags": []
          }
        }
      ]
    },
    {
      "cell_type": "markdown",
      "metadata": {
        "id": "zzev9B-jWL6V",
        "colab_type": "text"
      },
      "source": [
        "It looks like there are barely any of the 0 and 5 categories. We can go ahead and throw them into the \"Other\" category since it's already operating as a catchall here. Similarly, the category \"0\" looks small, so let's throw it in with the \"Other\" values. You can do this by using a method called `.when()` from PySpark in conjunction with `.withColumn()` and `.otherwise()`.  "
      ]
    },
    {
      "cell_type": "code",
      "metadata": {
        "id": "Va0BOb22WL6X",
        "colab_type": "code",
        "colab": {}
      },
      "source": [
        "from pyspark.sql.functions import when\n",
        "\n",
        "spark_df_2 = spark_df.withColumn('EDUCATION',\n",
        "                    when(spark_df.EDUCATION == '0', 'Other')\\\n",
        "                    .when(spark_df.EDUCATION == '5', 'Other')\\\n",
        "                    .when(spark_df.EDUCATION == '6', 'Other')\\\n",
        "                    .otherwise(spark_df['EDUCATION']))\n",
        "\n",
        "## changing the values in the marriage column\n",
        "spark_df_done = spark_df_2.withColumn('MARRIAGE',\n",
        "                                   when(spark_df.MARRIAGE == '0', 'Other')\\\n",
        "                                   .otherwise(spark_df['MARRIAGE']))"
      ],
      "execution_count": 0,
      "outputs": []
    },
    {
      "cell_type": "code",
      "metadata": {
        "id": "WuGHrvhgWL6i",
        "colab_type": "code",
        "colab": {
          "base_uri": "https://localhost:8080/",
          "height": 54
        },
        "outputId": "9e1ca2c4-3756-4397-cb96-939a55a3bc67"
      },
      "source": [
        "spark_df_done.head()"
      ],
      "execution_count": 16,
      "outputs": [
        {
          "output_type": "execute_result",
          "data": {
            "text/plain": [
              "Row(ID=2, LIMIT_BAL=120000.0, SEX='Female', EDUCATION='College', MARRIAGE='Single', AGE=26, PAY_0=-1, PAY_2=2, PAY_3=0, PAY_4=0, PAY_5=0, PAY_6=2, BILL_AMT1=2682.0, BILL_AMT2=1725.0, BILL_AMT3=2682.0, BILL_AMT4=3272.0, BILL_AMT5=3455.0, BILL_AMT6=3261.0, PAY_AMT1=0.0, PAY_AMT2=1000.0, PAY_AMT3=1000.0, PAY_AMT4=1000.0, PAY_AMT5=0.0, PAY_AMT6=2000.0, default=1)"
            ]
          },
          "metadata": {
            "tags": []
          },
          "execution_count": 16
        }
      ]
    },
    {
      "cell_type": "markdown",
      "metadata": {
        "id": "rCfjzSNMWL6q",
        "colab_type": "text"
      },
      "source": [
        "Now let's take a look at all the values contained in the categorical columns of the DataFrame: "
      ]
    },
    {
      "cell_type": "code",
      "metadata": {
        "id": "EOygYs_5WL6s",
        "colab_type": "code",
        "colab": {
          "base_uri": "https://localhost:8080/",
          "height": 85
        },
        "outputId": "188ff674-0f7c-422e-c75d-cd59bc5a1a47"
      },
      "source": [
        "for column, data_type in spark_df_done.dtypes:\n",
        "    if data_type == 'string':\n",
        "      print('Feature', column, 'has', spark_df_done.select(column).distinct().collect())"
      ],
      "execution_count": 17,
      "outputs": [
        {
          "output_type": "stream",
          "text": [
            "ERROR! Session/line number was not unique in database. History logging moved to new session 59\n",
            "Feature SEX has [Row(SEX='Female'), Row(SEX='Male')]\n",
            "Feature EDUCATION has [Row(EDUCATION='High School'), Row(EDUCATION='Other'), Row(EDUCATION='Graduate'), Row(EDUCATION='College')]\n",
            "Feature MARRIAGE has [Row(MARRIAGE='Other'), Row(MARRIAGE='Married'), Row(MARRIAGE='Single')]\n"
          ],
          "name": "stdout"
        }
      ]
    },
    {
      "cell_type": "markdown",
      "metadata": {
        "id": "WBZ_DOHOWL61",
        "colab_type": "text"
      },
      "source": [
        "Much better. Now, let's do a little more investigation into our target variable before diving into the machine learning aspect of this project."
      ]
    },
    {
      "cell_type": "markdown",
      "metadata": {
        "id": "NDjkYOJvWL63",
        "colab_type": "text"
      },
      "source": [
        "##  EDA\n",
        "\n",
        "Let's first look at the overall distribution of class balance of the default and not default labels. Create a barplot to compare the number of defaults vs. non-defaults. This will require using `.groupBy()` as well as an aggregation method."
      ]
    },
    {
      "cell_type": "code",
      "metadata": {
        "id": "F6rvBzxKWL65",
        "colab_type": "code",
        "colab": {
          "base_uri": "https://localhost:8080/",
          "height": 282
        },
        "outputId": "ff54f10c-4a8f-46e1-c43b-e48b57831e6f"
      },
      "source": [
        "number_of_defaults = spark_df_done.groupBy('default').count().collect()\n",
        "default = [x[0] for x in number_of_defaults]\n",
        "num_defaults = [x[1] for x in number_of_defaults]\n",
        "ax = sns.barplot(default,num_defaults)\n",
        "ax.set_ylabel('Number of Defaults')\n",
        "ax.set_xticklabels(['No Default (0)','Default (1)'])"
      ],
      "execution_count": 18,
      "outputs": [
        {
          "output_type": "execute_result",
          "data": {
            "text/plain": [
              "[Text(0, 0, 'No Default (0)'), Text(0, 0, 'Default (1)')]"
            ]
          },
          "metadata": {
            "tags": []
          },
          "execution_count": 18
        },
        {
          "output_type": "display_data",
          "data": {
            "image/png": "[encoded data removed]",
            "text/plain": [
              "<Figure size 432x288 with 1 Axes>"
            ]
          },
          "metadata": {
            "tags": []
          }
        }
      ]
    },
    {
      "cell_type": "markdown",
      "metadata": {
        "id": "vDQ7JHMDWL7D",
        "colab_type": "text"
      },
      "source": [
        "Let's also visualize the difference in default rate between males and females in this dataset."
      ]
    },
    {
      "cell_type": "code",
      "metadata": {
        "id": "5T2M4fD3WL7F",
        "colab_type": "code",
        "colab": {
          "base_uri": "https://localhost:8080/",
          "height": 85
        },
        "outputId": "4ac12624-8c43-420c-cb95-b0ddc204d3ce"
      },
      "source": [
        "# perform a groupby for default and sex\n",
        "default_by_sex = spark_df_done.groupBy(['default' , 'SEX']).count().collect()\n",
        "default_by_sex"
      ],
      "execution_count": 20,
      "outputs": [
        {
          "output_type": "execute_result",
          "data": {
            "text/plain": [
              "[Row(default=1, SEX='Female', count=3762),\n",
              " Row(default=0, SEX='Male', count=9015),\n",
              " Row(default=1, SEX='Male', count=2873),\n",
              " Row(default=0, SEX='Female', count=14349)]"
            ]
          },
          "metadata": {
            "tags": []
          },
          "execution_count": 20
        }
      ]
    },
    {
      "cell_type": "code",
      "metadata": {
        "id": "6GggiCKDWL7N",
        "colab_type": "code",
        "colab": {
          "base_uri": "https://localhost:8080/",
          "height": 298
        },
        "outputId": "f8df9246-868e-498a-e674-42d088105ff9"
      },
      "source": [
        "# make barplot for female and male default v no default rate\n",
        "female = [default_by_sex[0], default_by_sex[-1]]\n",
        "male = [default_by_sex[1], default_by_sex[2]]\n",
        "f, axes = plt.subplots(1,2)\n",
        "f.set_figwidth(10)\n",
        "sns.barplot(x= bar_plot_values(0,female),y=bar_plot_values(2,female),ax=axes[0])\n",
        "sns.barplot(x= bar_plot_values(0,male),y=bar_plot_values(2,male),ax=axes[1])\n",
        "axes[0].set_title('Female Default Rate')\n",
        "axes[1].set_title('Male Default Rate')\n",
        "axes[0].set_ylabel('Number of Defaults')\n",
        "axes[0].set_xticklabels(['No Default (0)','Default (1)'])\n",
        "axes[1].set_xticklabels(['No Default (0)','Default (1)'])"
      ],
      "execution_count": 21,
      "outputs": [
        {
          "output_type": "execute_result",
          "data": {
            "text/plain": [
              "[Text(0, 0, 'No Default (0)'), Text(0, 0, 'Default (1)')]"
            ]
          },
          "metadata": {
            "tags": []
          },
          "execution_count": 21
        },
        {
          "output_type": "display_data",
          "data": {
            "image/png": "[encoded data removed]",
            "text/plain": [
              "<Figure size 720x288 with 2 Axes>"
            ]
          },
          "metadata": {
            "tags": []
          }
        }
      ]
    },
    {
      "cell_type": "markdown",
      "metadata": {
        "id": "NqtEY5qxWL7U",
        "colab_type": "text"
      },
      "source": [
        "It looks like males have an ever so slightly higher default rate than females."
      ]
    },
    {
      "cell_type": "markdown",
      "metadata": {
        "id": "ptZc4Y2uWL7W",
        "colab_type": "text"
      },
      "source": [
        "## Onto the Machine Learning!"
      ]
    },
    {
      "cell_type": "markdown",
      "metadata": {
        "id": "g_L9ZK2OWL7X",
        "colab_type": "text"
      },
      "source": [
        "Now, it's time to fit the data to the PySpark machine learning model pipeline. You will need:\n",
        "\n",
        "* 3 StringIndexers (for each categorical feature)\n",
        "* A OneHotEncoderEstimator (to encode the newly indexed strings into categorical variables)\n",
        "* A VectorAssembler (to combine all features into one SparseVector)\n",
        "\n",
        "All of these initialized estimators should be stored in a list."
      ]
    },
    {
      "cell_type": "code",
      "metadata": {
        "id": "1xVVqNGjWL7Z",
        "colab_type": "code",
        "colab": {
          "base_uri": "https://localhost:8080/",
          "height": 34
        },
        "outputId": "d4e3f77b-0967-40e1-86fa-7c7db24353f3"
      },
      "source": [
        "# importing the necessary modules\n",
        "from pyspark.ml.regression import RandomForestRegressor\n",
        "from pyspark.ml import feature\n",
        "from pyspark.ml.feature import StringIndexer, VectorAssembler, OneHotEncoderEstimator\n",
        "\n",
        "stages = []\n",
        "indexers = []\n",
        "\n",
        "# creating the string indexers\n",
        "for col in ['EDUCATION','SEX','MARRIAGE']:\n",
        "    indexers.append(StringIndexer(inputCol =col,outputCol=col+'_',handleInvalid='keep'))\n",
        "    \n",
        "input_columns = [indexer.getOutputCol() for indexer in indexers]\n",
        "\n",
        "one_hot_encoder = OneHotEncoderEstimator(inputCols=input_columns,outputCols=[col + 'ohe' for col in input_columns],dropLast=True)\n",
        "\n",
        "\n",
        "# features to be included in the model \n",
        "features = ['LIMIT_BAL','AGE','PAY_0','PAY_2','PAY_3',\n",
        "            'PAY_4','PAY_5','PAY_6', 'BILL_AMT1','BILL_AMT2',\n",
        "            'BILL_AMT3','BILL_AMT4','BILL_AMT5','BILL_AMT6']\n",
        "\n",
        "# adding the categorical features\n",
        "features.extend(one_hot_encoder.getOutputCols())\n",
        "\n",
        "# putting all of the features into a single vector\n",
        "vector_assember = VectorAssembler(inputCols= features , outputCol='features')\n",
        "\n",
        "stages.extend(indexers)\n",
        "stages.extend([one_hot_encoder,vector_assember])\n",
        "print(stages)\n",
        "\n"
      ],
      "execution_count": 22,
      "outputs": [
        {
          "output_type": "stream",
          "text": [
            "[StringIndexer_ed72143168c6, StringIndexer_79a02697fd53, StringIndexer_6ace5d24b1d6, OneHotEncoderEstimator_b8bdea6fd979, VectorAssembler_50d4120d9b67]\n"
          ],
          "name": "stdout"
        }
      ]
    },
    {
      "cell_type": "markdown",
      "metadata": {
        "id": "64DoDjyOWL7h",
        "colab_type": "text"
      },
      "source": [
        "Alright! Now let's see if that worked. Let's investigate how it transforms your dataset. Put all of the stages in a Pipeline and fit it to your data. Look at the features column. Did you obtain the number of features you expected?"
      ]
    },
    {
      "cell_type": "code",
      "metadata": {
        "id": "3LDeSYuNWL7i",
        "colab_type": "code",
        "colab": {
          "base_uri": "https://localhost:8080/",
          "height": 34
        },
        "outputId": "1065fca8-5a48-4744-fb7f-0b1be7195574"
      },
      "source": [
        "from pyspark.ml.pipeline import Pipeline\n",
        "from pyspark.ml.pipeline import Pipeline\n",
        "pipe = Pipeline(stages=stages)\n",
        "data_transformer = pipe.fit(spark_df_done)\n",
        "transformed_data = data_transformer.transform(spark_df_done)\n",
        "p = transformed_data.select('features')\n",
        "p.head()\n",
        "\n",
        "# 17 numerical features and 6 categorical ones (the argument dropLast = True makes us have Sex, 3 Edu variables and 2 marriage)"
      ],
      "execution_count": 23,
      "outputs": [
        {
          "output_type": "execute_result",
          "data": {
            "text/plain": [
              "Row(features=SparseVector(23, {0: 120000.0, 1: 26.0, 2: -1.0, 3: 2.0, 7: 2.0, 8: 2682.0, 9: 1725.0, 10: 2682.0, 11: 3272.0, 12: 3455.0, 13: 3261.0, 14: 1.0, 18: 1.0, 20: 1.0}))"
            ]
          },
          "metadata": {
            "tags": []
          },
          "execution_count": 23
        }
      ]
    },
    {
      "cell_type": "markdown",
      "metadata": {
        "id": "qoY6y2FiWL7s",
        "colab_type": "text"
      },
      "source": [
        "## Fitting Machine Learning Models\n",
        "That looks good! Now let's go ahead and fit data to different machine learning models. To evaluate these models, you should use the `BinaryClassificationEvaluator`. Below is an import of all the classes and libraries you'll need in the remainder of this lab."
      ]
    },
    {
      "cell_type": "code",
      "metadata": {
        "id": "6QcbzhWxWL7u",
        "colab_type": "code",
        "colab": {}
      },
      "source": [
        "from pyspark.ml.classification import GBTClassifier, DecisionTreeClassifier, LogisticRegression, RandomForestClassifier\n",
        "from pyspark.ml.tuning import ParamGridBuilder, CrossValidator, TrainValidationSplit\n",
        "from pyspark.ml.evaluation import BinaryClassificationEvaluator\n",
        "import numpy as np"
      ],
      "execution_count": 0,
      "outputs": []
    },
    {
      "cell_type": "markdown",
      "metadata": {
        "id": "29L3PwJlWL72",
        "colab_type": "text"
      },
      "source": [
        "### Logistic Regression\n",
        "\n",
        "First, we'll try with a simple Logistic Regression Model:\n",
        "\n",
        "* instantiate a logistic regression model\n",
        "* add it to the stages list\n",
        "* instantiate a new Pipeline estimator (not fit) with all of the stages\n",
        "* instantiate an `BinaryClassificationEvaluator`\n",
        "* create parameters to gridsearch through using `ParamGridBuilder`\n",
        "* Instantiate and fit a `CrossValidator` "
      ]
    },
    {
      "cell_type": "code",
      "metadata": {
        "id": "oRraagY6WL74",
        "colab_type": "code",
        "colab": {}
      },
      "source": [
        "# your code here\n",
        "lr = LogisticRegression(featuresCol='features',labelCol='default')\n",
        "p = Pipeline(stages=stages + [lr])\n",
        "evaluation = BinaryClassificationEvaluator(labelCol = 'default',metricName='areaUnderROC')\n",
        "\n",
        "lr_params = ParamGridBuilder().addGrid(lr.regParam,[0.0,0.2,0.5,1.0])\\\n",
        ".addGrid(lr.standardization,[True,False])\\\n",
        ".build()\n",
        "\n",
        "cv = CrossValidator(estimator=p, estimatorParamMaps=lr_params,evaluator=evaluation,parallelism=4)\n",
        "model = cv.fit(spark_df_done)"
      ],
      "execution_count": 0,
      "outputs": []
    },
    {
      "cell_type": "markdown",
      "metadata": {
        "id": "DIRlTNrXWL8C",
        "colab_type": "text"
      },
      "source": [
        "Determine how well your model performed by looking at the evaluator metrics. If you tried multiple parameters, which performed best?"
      ]
    },
    {
      "cell_type": "code",
      "metadata": {
        "id": "CAF6RaCkWL8D",
        "colab_type": "code",
        "colab": {
          "base_uri": "https://localhost:8080/",
          "height": 71
        },
        "outputId": "3d904ada-b362-42d8-c668-20ac03092b26"
      },
      "source": [
        "# print out the AUC of your best model as well as the parameters of your best model\n",
        "index_best_model = np.argmax(model.avgMetrics)\n",
        "print(model.avgMetrics[index_best_model],'AUC')\n",
        "print('best parameters : ',lr_params[index_best_model])"
      ],
      "execution_count": 26,
      "outputs": [
        {
          "output_type": "stream",
          "text": [
            "0.7173282635508594 AUC\n",
            "best parameters :  {Param(parent='LogisticRegression_91db9fa33306', name='regParam', doc='regularization parameter (>= 0).'): 0.0, Param(parent='LogisticRegression_91db9fa33306', name='standardization', doc='whether to standardize the training features before fitting the model.'): True}\n"
          ],
          "name": "stdout"
        }
      ]
    },
    {
      "cell_type": "markdown",
      "metadata": {
        "id": "9TGy-XIsWL8M",
        "colab_type": "text"
      },
      "source": [
        "#### Now try this again with other classifiers. Try and create a function that will allow you to easily test different models with different parameters. This function is optional, but it should allow for your code to be far more D.R.Y. The function should return the fitted cross-validated model as well as print out the performance metrics of the best performing model and the best parameters."
      ]
    },
    {
      "cell_type": "code",
      "metadata": {
        "id": "rkBl24ycWL8O",
        "colab_type": "code",
        "colab": {}
      },
      "source": [
        "# create function to cross validate models with different parameters\n",
        "def create_model(ml_model,\n",
        "                 preprocessing_stages,\n",
        "                 param_grid,\n",
        "                 parallel = 4,\n",
        "                 evaluation_metric = 'areaUnderROC',\n",
        "                 parafeaturesCol = 'features',\n",
        "                 label='default'):\n",
        "    \n",
        "    stage_with_ml = preprocessing_stages + [ml_model]\n",
        "    pipe = Pipeline(stages=stage_with_ml)\n",
        "    \n",
        "    evaluation = BinaryClassificationEvaluator(labelCol = label,metricName=evaluation_metric)\n",
        "    model = CrossValidator(estimator = pipe,\n",
        "                        estimatorParamMaps=param_grid,\n",
        "                        evaluator = evaluation,\n",
        "                       parallelism = parallel).fit(spark_df_done)\n",
        "\n",
        "    index_best_model = np.argmax(model.avgMetrics)\n",
        "    print('best performing model: ', model.avgMetrics[index_best_model],'AUC')\n",
        "    print('best parameters: ',param_grid[index_best_model])\n",
        "    return model\n"
      ],
      "execution_count": 0,
      "outputs": []
    },
    {
      "cell_type": "markdown",
      "metadata": {
        "id": "lAQJ7sq-WL8U",
        "colab_type": "text"
      },
      "source": [
        "Train a Random Forest classifier and determine the best performing model with the best parameters. This might take a while! Be smart about how you use parallelization here."
      ]
    },
    {
      "cell_type": "code",
      "metadata": {
        "id": "b-0KgF8MWL8W",
        "colab_type": "code",
        "colab": {
          "base_uri": "https://localhost:8080/",
          "height": 71
        },
        "outputId": "5a82cdf5-4d86-4e87-c531-1a5b47066bb3"
      },
      "source": [
        "# code to train Random Forest Classifier\n",
        "# ⏰ This cell may take a long time to run\n",
        "rf = RandomForestClassifier(featuresCol='features',labelCol='default')\n",
        "rf_params = ParamGridBuilder()\\\n",
        ".addGrid(rf.maxDepth, [5,10])\\\n",
        " .addGrid(rf.numTrees, [20,50,100,200])\\\n",
        " .build()\n",
        "\n",
        "rf_model = create_model(rf,stages,rf_params)"
      ],
      "execution_count": 28,
      "outputs": [
        {
          "output_type": "stream",
          "text": [
            "best performing model:  0.7798586485620007 AUC\n",
            "best parameters:  {Param(parent='RandomForestClassifier_eb1635557651', name='maxDepth', doc='Maximum depth of the tree. (>= 0) E.g., depth 0 means 1 leaf node; depth 1 means 1 internal node + 2 leaf nodes.'): 10, Param(parent='RandomForestClassifier_eb1635557651', name='numTrees', doc='Number of trees to train (>= 1).'): 100}\n"
          ],
          "name": "stdout"
        }
      ]
    },
    {
      "cell_type": "markdown",
      "metadata": {
        "id": "AWfSsQjXWL8d",
        "colab_type": "text"
      },
      "source": [
        "Now train a Gradient Boosting Classifier. **This might take a very long time depending on the number of parameters you are training**"
      ]
    },
    {
      "cell_type": "code",
      "metadata": {
        "id": "f8mNnYSsWL8e",
        "colab_type": "code",
        "colab": {
          "base_uri": "https://localhost:8080/",
          "height": 71
        },
        "outputId": "7a5d82c1-d41b-4290-d89c-b78bd18e2e53"
      },
      "source": [
        "# code to train Gradient Boosting Classifier\n",
        "# ⏰ This cell may take a long time to run\n",
        "gb = GBTClassifier(featuresCol='features',labelCol='default')\n",
        "param_gb = ParamGridBuilder().addGrid(gb.maxDepth,[1,5]).addGrid(gb.maxIter,[20,50,100]).build()\n",
        "\n",
        "gb_model = create_model(gb,stages, param_grid=param_gb, parallel=4)"
      ],
      "execution_count": 29,
      "outputs": [
        {
          "output_type": "stream",
          "text": [
            "best performing model:  0.7797705159734464 AUC\n",
            "best parameters:  {Param(parent='GBTClassifier_58202c91ded6', name='maxDepth', doc='Maximum depth of the tree. (>= 0) E.g., depth 0 means 1 leaf node; depth 1 means 1 internal node + 2 leaf nodes.'): 5, Param(parent='GBTClassifier_58202c91ded6', name='maxIter', doc='max number of iterations (>= 0).'): 50}\n"
          ],
          "name": "stdout"
        }
      ]
    },
    {
      "cell_type": "markdown",
      "metadata": {
        "id": "V2Ok-hhPWL8l",
        "colab_type": "text"
      },
      "source": [
        "It looks like the optimal performing model is the Random Forest Classifier Model because it has the highest AUC!\n",
        "\n",
        "## Level Up (Optional)\n",
        "\n",
        "* Create ROC curves for each of these models\n",
        "* Try the multi-layer perceptron classifier algorithm. You will soon learn about what this means in the neural network section!"
      ]
    },
    {
      "cell_type": "markdown",
      "metadata": {
        "id": "sIMQUjJ1WL8n",
        "colab_type": "text"
      },
      "source": [
        "## Summary\n",
        "\n",
        "If you've made it thus far, congratulations! Spark is an in-demand skill, but it is not particularly easy to master. In this lesson, you fit multiple different machine learning pipelines for a classification problem. If you want to take your Spark skills to the next level, connect to a distributed cluster using a service like AWS or Databricks and perform these Spark operations on the cloud."
      ]
    }
  ]
}